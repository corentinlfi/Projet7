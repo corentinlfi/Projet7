{
 "cells": [
  {
   "cell_type": "code",
   "execution_count": 1,
   "id": "d8e103b5-3d64-4093-ba20-bd1fb095e7ff",
   "metadata": {},
   "outputs": [
    {
     "name": "stdout",
     "output_type": "stream",
     "text": [
      "Client ID: 300123, Solvable: True\n"
     ]
    }
   ],
   "source": [
    "import requests\n",
    "\n",
    "client_id = input(\"Entrez l'ID du client recherché :\")  # Remplacez par un ID valide\n",
    "response = requests.get(f\"http://ec2-35-181-57-191.eu-west-3.compute.amazonaws.com:8000/predict/{client_id}\")\n",
    "\n",
    "if response.status_code == 200:\n",
    "    result = response.json()\n",
    "    print(f\"Client ID: {result['client_id']}, Solvable: {result['solvable']}\")\n",
    "else:\n",
    "    print(\"Error:\", response.status_code, response.text)\n"
   ]
  }
 ],
 "metadata": {
  "kernelspec": {
   "display_name": "Python 3 (ipykernel)",
   "language": "python",
   "name": "python3"
  },
  "language_info": {
   "codemirror_mode": {
    "name": "ipython",
    "version": 3
   },
   "file_extension": ".py",
   "mimetype": "text/x-python",
   "name": "python",
   "nbconvert_exporter": "python",
   "pygments_lexer": "ipython3",
   "version": "3.12.4"
  }
 },
 "nbformat": 4,
 "nbformat_minor": 5
}
