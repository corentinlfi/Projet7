{
 "cells": [
  {
   "cell_type": "code",
   "execution_count": null,
   "id": "c61c535f-8ca3-441c-a74c-9bd0513c7532",
   "metadata": {},
   "outputs": [],
   "source": [
    "import requests\n",
    "import pandas as pd\n",
    "pd.set_option('display.max_rows', None)\n",
    "\n",
    "# Demander l'ID du client\n",
    "client_id = input(\"Entrez l'ID du client recherché :\")  # Remplacez par un ID valide\n",
    "\n",
    "# Faire la requête à l'API\n",
    "response = requests.get(f\"http://ec2-35-181-57-191.eu-west-3.compute.amazonaws.com:8000/predict/{client_id}\")\n",
    "\n",
    "# Vérifier la réponse\n",
    "if response.status_code == 200:\n",
    "    result = response.json()\n",
    "    \n",
    "    # Afficher l'ID du client et si le client est solvable\n",
    "    print(f\"Client ID: {result['client_id']}, Solvable: {result['solvable']}, Score: {result['probability']}\")\n",
    "    \n",
    "    # Convertir les features en DataFrame\n",
    "    client_features = result['client_features']\n",
    "    client_features_df = pd.DataFrame(client_features)\n",
    "    \n",
    "    # Afficher le DataFrame des features\n",
    "    print(\"Informations sur le client :\")\n",
    "    display(client_features_df)\n",
    "    \n",
    "else:\n",
    "    # En cas d'erreur, afficher le message d'erreur\n",
    "    print(\"Error:\", response.status_code, response.text)\n"
   ]
  }
 ],
 "metadata": {
  "kernelspec": {
   "display_name": "Python 3 (ipykernel)",
   "language": "python",
   "name": "python3"
  },
  "language_info": {
   "codemirror_mode": {
    "name": "ipython",
    "version": 3
   },
   "file_extension": ".py",
   "mimetype": "text/x-python",
   "name": "python",
   "nbconvert_exporter": "python",
   "pygments_lexer": "ipython3",
   "version": "3.11.10"
  }
 },
 "nbformat": 4,
 "nbformat_minor": 5
}
