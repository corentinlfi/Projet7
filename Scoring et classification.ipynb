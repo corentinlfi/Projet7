{
 "cells": [
  {
   "cell_type": "markdown",
   "id": "64620e8c-5d0b-489b-b986-747a5a66f052",
   "metadata": {},
   "source": [
    "- Objectifs :\n",
    "    - minimiser les faux négatifs (métrique = recall le plus élevé possible)\n",
    "    - minimiser les faux positifs (métrique = precision le plus élevé possible)\n",
    "- Déséquilibres dans le jeu de données : trop de bons clients (0) par rapport aux mauvais clients (1) --> utiliser l'argument class_weight pour résoudre le pb ds la mise en place des modèles"
   ]
  }
 ],
 "metadata": {
  "kernelspec": {
   "display_name": "Python 3 (ipykernel)",
   "language": "python",
   "name": "python3"
  },
  "language_info": {
   "codemirror_mode": {
    "name": "ipython",
    "version": 3
   },
   "file_extension": ".py",
   "mimetype": "text/x-python",
   "name": "python",
   "nbconvert_exporter": "python",
   "pygments_lexer": "ipython3",
   "version": "3.12.4"
  }
 },
 "nbformat": 4,
 "nbformat_minor": 5
}
